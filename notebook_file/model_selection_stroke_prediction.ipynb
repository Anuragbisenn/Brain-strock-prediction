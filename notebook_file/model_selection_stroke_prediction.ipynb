{
 "cells": [
  {
   "cell_type": "code",
   "execution_count": 1,
   "metadata": {},
   "outputs": [],
   "source": [
    "import pandas as pd \n",
    "import numpy as np \n",
    "from sklearn.model_selection import train_test_split\n",
    "from sklearn.preprocessing import RobustScaler,OneHotEncoder,StandardScaler,MinMaxScaler,LabelEncoder\n",
    "from sklearn.pipeline import Pipeline\n",
    "from sklearn.impute import SimpleImputer\n",
    "from sklearn.compose import ColumnTransformer\n",
    "from sklearn.tree import DecisionTreeClassifier\n",
    "from sklearn.ensemble import RandomForestClassifier\n",
    "from sklearn.model_selection import GridSearchCV\n",
    "from sklearn.linear_model import LogisticRegression\n",
    "from sklearn.metrics import roc_auc_score, average_precision_score, make_scorer\n",
    "from sklearn.svm import SVC\n",
    "import joblib\n",
    "import pickle"
   ]
  },
  {
   "cell_type": "code",
   "execution_count": 2,
   "metadata": {},
   "outputs": [],
   "source": [
    "# reading data \n",
    "\n",
    "data=pd.read_csv(\"healthcare-dataset-stroke-data.csv\")\n"
   ]
  },
  {
   "cell_type": "code",
   "execution_count": 3,
   "metadata": {},
   "outputs": [],
   "source": [
    "#droped unwanted columns that cant be helfull for predictions \n",
    "data.drop(columns='id',axis=1,inplace=True)"
   ]
  },
  {
   "cell_type": "code",
   "execution_count": 4,
   "metadata": {},
   "outputs": [
    {
     "data": {
      "text/plain": [
       "array(['gender', 'ever_married', 'work_type', 'Residence_type',\n",
       "       'smoking_status', 'gender', 'ever_married', 'work_type',\n",
       "       'Residence_type', 'smoking_status'], dtype=object)"
      ]
     },
     "execution_count": 4,
     "metadata": {},
     "output_type": "execute_result"
    }
   ],
   "source": [
    "#cheaking all the numerical columns for pipeline creation\n",
    "cat_col=data.select_dtypes('object').columns\n",
    "cat_col=np.append(cat_col,['gender', 'ever_married', 'work_type', 'Residence_type',\n",
    "       'smoking_status'])\n",
    "cat_col"
   ]
  },
  {
   "cell_type": "code",
   "execution_count": 5,
   "metadata": {},
   "outputs": [
    {
     "data": {
      "text/plain": [
       "Index(['age', 'hypertension', 'heart_disease', 'avg_glucose_level', 'bmi',\n",
       "       'stroke'],\n",
       "      dtype='object')"
      ]
     },
     "execution_count": 5,
     "metadata": {},
     "output_type": "execute_result"
    }
   ],
   "source": [
    "# cheaking all the chategorical columns for pipeline \n",
    "num_col=data.select_dtypes(exclude='object').columns\n",
    "num_col"
   ]
  },
  {
   "cell_type": "code",
   "execution_count": 6,
   "metadata": {},
   "outputs": [],
   "source": [
    "# bmi feture has missing value that is not good for model performance so we droped it \n",
    "imp_mean = SimpleImputer(missing_values=np.nan, strategy='mean')\n",
    "imputer=imp_mean.fit(data[['bmi']])\n",
    "data[['bmi']]=imputer.transform(data[['bmi']])"
   ]
  },
  {
   "cell_type": "code",
   "execution_count": 7,
   "metadata": {},
   "outputs": [],
   "source": [
    "# performing train test split on given data \n",
    "x_train,x_test,y_train,y_test=train_test_split(data.drop('stroke',axis=1),data.stroke,test_size=0.2,random_state=0)\n"
   ]
  },
  {
   "cell_type": "code",
   "execution_count": 8,
   "metadata": {},
   "outputs": [],
   "source": [
    "#columns trabsformers for all the conversion needed for model in pipeline \n",
    "\n",
    "ct=ColumnTransformer([\n",
    "    ('ohe',OneHotEncoder(sparse=False,handle_unknown='ignore'),cat_col),\n",
    "    ('ss',StandardScaler(),['age', 'hypertension', 'heart_disease', 'avg_glucose_level', 'bmi']),\n",
    "\n",
    "],remainder='passthrough')"
   ]
  },
  {
   "cell_type": "code",
   "execution_count": 9,
   "metadata": {},
   "outputs": [],
   "source": [
    "# for hyperparameter tuning we selected some pameter for defferent model \n",
    "param_1={\n",
    "    'model__n_estimators':[10,20],\n",
    "    'model__max_depth':[2,3]\n",
    "}"
   ]
  },
  {
   "cell_type": "code",
   "execution_count": 10,
   "metadata": {},
   "outputs": [],
   "source": [
    "param_2 = {'model__C':[1,2,3],\n",
    "             'model__cache_size':[200,300,400],\n",
    "             }"
   ]
  },
  {
   "cell_type": "code",
   "execution_count": 11,
   "metadata": {},
   "outputs": [],
   "source": [
    "param_3={'model' : [LogisticRegression()],\n",
    "     'model__penalty' : ['l1', 'l2'],\n",
    "    'model__C' : np.logspace(-4, 4, 20),\n",
    "    'model__solver' : ['liblinear']}"
   ]
  },
  {
   "cell_type": "code",
   "execution_count": 12,
   "metadata": {},
   "outputs": [],
   "source": [
    "#creating pipeline for all three selected model , we have cheaked with only three model in this project \n",
    "# in future we ill test with more model "
   ]
  },
  {
   "cell_type": "code",
   "execution_count": 13,
   "metadata": {},
   "outputs": [],
   "source": [
    "pipe1=Pipeline([\n",
    "    ('ct',ct),\n",
    "    ('model',RandomForestClassifier(random_state=0,n_jobs=-1))\n",
    "])"
   ]
  },
  {
   "cell_type": "code",
   "execution_count": 14,
   "metadata": {},
   "outputs": [],
   "source": [
    "pipe2=Pipeline([\n",
    "    ('ct',ct),\n",
    "    ('model',SVC())\n",
    "])"
   ]
  },
  {
   "cell_type": "code",
   "execution_count": 15,
   "metadata": {},
   "outputs": [],
   "source": [
    "pipe3=Pipeline([\n",
    "    ('ct',ct),\n",
    "    ('model',LogisticRegression())\n",
    "])"
   ]
  },
  {
   "cell_type": "code",
   "execution_count": 16,
   "metadata": {},
   "outputs": [],
   "source": [
    "models=[pipe1,pipe2,pipe3]"
   ]
  },
  {
   "cell_type": "code",
   "execution_count": 17,
   "metadata": {},
   "outputs": [
    {
     "name": "stdout",
     "output_type": "stream",
     "text": [
      "roc is  0.7793847566574839\n",
      "pr is 0.16970413152398633\n",
      "0.9522993957857627\n",
      "Pipeline(steps=[('ct',\n",
      "                 ColumnTransformer(remainder='passthrough',\n",
      "                                   transformers=[('ohe',\n",
      "                                                  OneHotEncoder(handle_unknown='ignore',\n",
      "                                                                sparse=False),\n",
      "                                                  array(['gender', 'ever_married', 'work_type', 'Residence_type',\n",
      "       'smoking_status', 'gender', 'ever_married', 'work_type',\n",
      "       'Residence_type', 'smoking_status'], dtype=object)),\n",
      "                                                 ('ss', StandardScaler(),\n",
      "                                                  ['age', 'hypertension',\n",
      "                                                   'heart_disease',\n",
      "                                                   'avg_glucose_level',\n",
      "                                                   'bmi'])])),\n",
      "                ('model',\n",
      "                 RandomForestClassifier(max_depth=2, n_estimators=10, n_jobs=-1,\n",
      "                                        random_state=0))])\n",
      ">>>>>>>>>>>>>>>>>>>>>>>>>>>>>>>>>>>>>>>>>>>>>>>>>>>>>>>>>>>>>>>>>>>>>>>>>>>>\n",
      "roc is  0.5\n",
      "pr is 0.05283757338551859\n",
      "0.9522993957857627\n",
      "Pipeline(steps=[('ct',\n",
      "                 ColumnTransformer(remainder='passthrough',\n",
      "                                   transformers=[('ohe',\n",
      "                                                  OneHotEncoder(handle_unknown='ignore',\n",
      "                                                                sparse=False),\n",
      "                                                  array(['gender', 'ever_married', 'work_type', 'Residence_type',\n",
      "       'smoking_status', 'gender', 'ever_married', 'work_type',\n",
      "       'Residence_type', 'smoking_status'], dtype=object)),\n",
      "                                                 ('ss', StandardScaler(),\n",
      "                                                  ['age', 'hypertension',\n",
      "                                                   'heart_disease',\n",
      "                                                   'avg_glucose_level',\n",
      "                                                   'bmi'])])),\n",
      "                ('model', SVC(C=1))])\n",
      ">>>>>>>>>>>>>>>>>>>>>>>>>>>>>>>>>>>>>>>>>>>>>>>>>>>>>>>>>>>>>>>>>>>>>>>>>>>>\n",
      "roc is  0.5\n",
      "pr is 0.05283757338551859\n",
      "0.9522993957857627\n",
      "Pipeline(steps=[('ct',\n",
      "                 ColumnTransformer(remainder='passthrough',\n",
      "                                   transformers=[('ohe',\n",
      "                                                  OneHotEncoder(handle_unknown='ignore',\n",
      "                                                                sparse=False),\n",
      "                                                  array(['gender', 'ever_married', 'work_type', 'Residence_type',\n",
      "       'smoking_status', 'gender', 'ever_married', 'work_type',\n",
      "       'Residence_type', 'smoking_status'], dtype=object)),\n",
      "                                                 ('ss', StandardScaler(),\n",
      "                                                  ['age', 'hypertension',\n",
      "                                                   'heart_disease',\n",
      "                                                   'avg_glucose_level',\n",
      "                                                   'bmi'])])),\n",
      "                ('model',\n",
      "                 LogisticRegression(C=0.0001, penalty='l1',\n",
      "                                    solver='liblinear'))])\n"
     ]
    }
   ],
   "source": [
    "# model training and accuracy cheaking \n",
    "# hyper-parameter tuning \n",
    "\n",
    "    \n",
    "for i in models:\n",
    "    if i==pipe1:\n",
    "        param_grid=param_1\n",
    "        grid = GridSearchCV(i, param_grid=param_grid, n_jobs=-1)\n",
    "        grid.fit(x_train,y_train)\n",
    "        y_prob = grid.best_estimator_.predict_proba(x_test)[:,1]\n",
    "        roc=roc_auc_score(y_test, y_prob)\n",
    "        pr = average_precision_score(y_test, y_prob)\n",
    "        print(\"roc is \",roc)\n",
    "        print(\"pr is\",pr)\n",
    "        print(grid.best_score_)\n",
    "        print(grid.best_estimator_)\n",
    "        print('>>>>>>>>>>>>>>>>>>>>>>>>>>>>>>>>>>>>>>>>>>>>>>>>>>>>>>>>>>>>>>>>>>>>>>>>>>>>')\n",
    "    elif i==pipe2:\n",
    "        param_grid=param_2\n",
    "        grid = GridSearchCV(i, param_grid=param_grid, n_jobs=-1)\n",
    "        grid.fit(x_train,y_train)\n",
    "        y_prob = grid.best_estimator_.predict(x_test)\n",
    "        roc=roc_auc_score(y_test, y_prob)\n",
    "        pr = average_precision_score(y_test, y_prob)\n",
    "        print(\"roc is \",roc)\n",
    "        print(\"pr is\",pr)\n",
    "        print(grid.best_score_)\n",
    "        print(grid.best_estimator_)\n",
    "        print('>>>>>>>>>>>>>>>>>>>>>>>>>>>>>>>>>>>>>>>>>>>>>>>>>>>>>>>>>>>>>>>>>>>>>>>>>>>>')\n",
    "    else :\n",
    "        param_grid=param_3\n",
    "        grid = GridSearchCV(i, param_grid=param_grid, n_jobs=-1)\n",
    "        grid.fit(x_train,y_train)\n",
    "        y_prob = grid.best_estimator_.predict_proba(x_test)[:,1]\n",
    "        roc=roc_auc_score(y_test, y_prob)\n",
    "        pr = average_precision_score(y_test, y_prob)\n",
    "        print(\"roc is \",roc)\n",
    "        print(\"pr is\",pr)\n",
    "        print(grid.best_score_)\n",
    "        print(grid.best_estimator_)\n",
    "    \n",
    "      \n",
    "        \n",
    "        \n",
    "        "
   ]
  },
  {
   "cell_type": "code",
   "execution_count": 18,
   "metadata": {},
   "outputs": [],
   "source": [
    "#model saving which was best among all three model "
   ]
  },
  {
   "cell_type": "code",
   "execution_count": 19,
   "metadata": {},
   "outputs": [],
   "source": [
    "path='new_model'+ '.pkl'"
   ]
  },
  {
   "cell_type": "code",
   "execution_count": 20,
   "metadata": {},
   "outputs": [
    {
     "data": {
      "text/plain": [
       "['new_model.pkl']"
      ]
     },
     "execution_count": 20,
     "metadata": {},
     "output_type": "execute_result"
    }
   ],
   "source": [
    "joblib.dump(grid.best_estimator_,path) \n",
    " "
   ]
  },
  {
   "cell_type": "code",
   "execution_count": null,
   "metadata": {},
   "outputs": [],
   "source": []
  },
  {
   "cell_type": "code",
   "execution_count": null,
   "metadata": {},
   "outputs": [],
   "source": []
  }
 ],
 "metadata": {
  "kernelspec": {
   "display_name": "Python 3",
   "language": "python",
   "name": "python3"
  },
  "language_info": {
   "codemirror_mode": {
    "name": "ipython",
    "version": 3
   },
   "file_extension": ".py",
   "mimetype": "text/x-python",
   "name": "python",
   "nbconvert_exporter": "python",
   "pygments_lexer": "ipython3",
   "version": "3.8.5"
  }
 },
 "nbformat": 4,
 "nbformat_minor": 4
}
